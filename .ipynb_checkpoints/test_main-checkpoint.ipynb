{
 "cells": [
  {
   "cell_type": "markdown",
   "metadata": {},
   "source": [
    "# Практическая работа №8 \"Задача коммивояжера\"\n",
    "### Импорт необходимых библиотек"
   ]
  },
  {
   "cell_type": "code",
   "execution_count": 3,
   "metadata": {
    "pycharm": {
     "is_executing": true
    }
   },
   "outputs": [],
   "source": [
    "import folium\n",
    "import pandas as pd\n",
    "import numpy as np\n",
    "\n",
    "from math import sqrt\n",
    "from time import perf_counter\n",
    "\n",
    "from algorythm import aco\n",
    "#from test_algorythm import aco"
   ]
  },
  {
   "cell_type": "markdown",
   "metadata": {},
   "source": [
    "### Считывание данных"
   ]
  },
  {
   "cell_type": "code",
   "execution_count": 4,
   "metadata": {},
   "outputs": [],
   "source": [
    "df = pd.read_csv('data.csv', delimiter=',', index_col='id')\n",
    "df = df.head(500)"
   ]
  },
  {
   "cell_type": "code",
   "execution_count": 5,
   "metadata": {},
   "outputs": [
    {
     "data": {
      "text/plain": [
       "type\n",
       "с    259\n",
       "д    119\n",
       "п    113\n",
       "г      9\n",
       "Name: count, dtype: int64"
      ]
     },
     "execution_count": 5,
     "metadata": {},
     "output_type": "execute_result"
    }
   ],
   "source": [
    "df['type'].value_counts()"
   ]
  },
  {
   "cell_type": "code",
   "execution_count": null,
   "metadata": {},
   "outputs": [],
   "source": [
    "df[[\"latitude_dd\", \"longitude_dd\"]] = df[[\"latitude_dd\", \"longitude_dd\"]].apply(lambda x: x / 100)"
   ]
  },
  {
   "cell_type": "markdown",
   "metadata": {},
   "source": [
    "### Отображение карты с точками населённых пунктов"
   ]
  },
  {
   "cell_type": "code",
   "execution_count": null,
   "metadata": {},
   "outputs": [],
   "source": [
    "country_map = folium.Map(\n",
    "    location=[64.0914, 101.6016],  # Широта и долгота России\n",
    "    tiles='Stamen Toner',  # Высококонтрастные черно-белые карты.\n",
    "    zoom_start=4  # Начальный уровень масштабирования\n",
    ")"
   ]
  },
  {
   "cell_type": "code",
   "execution_count": null,
   "metadata": {},
   "outputs": [],
   "source": [
    "for _, row in df.iterrows():\n",
    "    folium.Circle(\n",
    "        radius=5,\n",
    "        location=(row['latitude_dd'], row['longitude_dd']),\n",
    "        popup=row['settlement'],\n",
    "        color='crimson',\n",
    "        fill=True,\n",
    "    ).add_to(country_map)\n",
    "\n",
    "country_map"
   ]
  },
  {
   "cell_type": "markdown",
   "metadata": {},
   "source": [
    "# ВРЕМЕННОЕ"
   ]
  },
  {
   "cell_type": "code",
   "execution_count": null,
   "metadata": {},
   "outputs": [],
   "source": [
    "def dist(first: tuple[float, float], second: tuple[float, float]) -> float:\n",
    "    \"\"\"Найти евклидово расстояние между точками first и second.\"\"\"\n",
    "    return sqrt((first[0] - second[0]) ** 2 + (first[1] - second[1]) ** 2)\n",
    "\n",
    "df = df.to_numpy()"
   ]
  },
  {
   "cell_type": "code",
   "execution_count": null,
   "metadata": {},
   "outputs": [],
   "source": [
    "num = df.shape[0]\n",
    "matrix = np.zeros((num, num))\n",
    "for i in range(num):\n",
    "    for j in range(num):\n",
    "        matrix[i, j] = dist(df[i, [4, 5]], df[j, [4, 5]])"
   ]
  },
  {
   "cell_type": "markdown",
   "metadata": {},
   "source": [
    "### Поиск пути"
   ]
  },
  {
   "cell_type": "code",
   "execution_count": null,
   "metadata": {},
   "outputs": [],
   "source": [
    "timer = perf_counter()\n",
    "result = aco(\n",
    "    matrix, 200, 200, ants=15, ages=160, rho=0.35,\n",
    "    a=1, b=5, q=40, ph_min=0.001, ph_max=1000, elite=10\n",
    ")\n",
    "print(f\"Потраченное время: {perf_counter() - timer} секунд\")\n",
    "result[1]"
   ]
  },
  {
   "cell_type": "code",
   "execution_count": null,
   "metadata": {},
   "outputs": [],
   "source": [
    "for i in range(len(result[0]) - 1):\n",
    "    first, second = result[0][i], result[0][i + 1]\n",
    "\n",
    "    folium.PolyLine(\n",
    "        weight=3,\n",
    "        locations=[df[first, [4, 5]],\n",
    "                   df[second, [4, 5]]],\n",
    "        popup=i,\n",
    "        color=\"blue\"\n",
    "    ).add_to(country_map)"
   ]
  },
  {
   "cell_type": "code",
   "execution_count": null,
   "metadata": {},
   "outputs": [],
   "source": [
    "country_map"
   ]
  },
  {
   "cell_type": "code",
   "execution_count": null,
   "metadata": {},
   "outputs": [],
   "source": [
    "result"
   ]
  },
  {
   "cell_type": "code",
   "execution_count": null,
   "metadata": {},
   "outputs": [],
   "source": []
  }
 ],
 "metadata": {
  "kernelspec": {
   "display_name": "Python 3 (ipykernel)",
   "language": "python",
   "name": "python3"
  },
  "language_info": {
   "codemirror_mode": {
    "name": "ipython",
    "version": 3
   },
   "file_extension": ".py",
   "mimetype": "text/x-python",
   "name": "python",
   "nbconvert_exporter": "python",
   "pygments_lexer": "ipython3",
   "version": "3.8.16"
  }
 },
 "nbformat": 4,
 "nbformat_minor": 1
}
